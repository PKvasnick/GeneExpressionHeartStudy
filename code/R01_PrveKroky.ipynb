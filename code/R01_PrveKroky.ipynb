{
  "nbformat": 4,
  "nbformat_minor": 0,
  "metadata": {
    "colab": {
      "name": "R01_PrveKroky.ipynb",
      "provenance": [],
      "authorship_tag": "ABX9TyPuBga0xFdPXv7rFeugChc/",
      "include_colab_link": true
    },
    "kernelspec": {
      "name": "ir",
      "display_name": "R"
    }
  },
  "cells": [
    {
      "cell_type": "markdown",
      "metadata": {
        "id": "view-in-github",
        "colab_type": "text"
      },
      "source": [
        "<a href=\"https://colab.research.google.com/github/PKvasnick/GeneExpressionHeartStudy/blob/master/code/R01_PrveKroky.ipynb\" target=\"_parent\"><img src=\"https://colab.research.google.com/assets/colab-badge.svg\" alt=\"Open In Colab\"/></a>"
      ]
    },
    {
      "cell_type": "markdown",
      "metadata": {
        "id": "BD-Bth4NoD1g",
        "colab_type": "text"
      },
      "source": [
        "# Ako chutí R\n",
        "\n",
        "Kým začnete písať R, urobíme niečo jednoduché, aby ste mali predstavu, kade povedú naše ďalšie kroky. \n",
        "\n",
        "## R notebook\n",
        "Nacházame sa v Google Colab R notebooku. Notebook pozostáva \n",
        "\n",
        "* z blokov textu, ako je tento, s Markdown formátovaním\n",
        "\n",
        "* z blokov kódu, ktoré majú na kraji šípku pre spustenie. \n",
        "\n",
        "* z blokov výstupu, obsahujúcich textový a grafický výstup kódu z predchádzajúceho poľa. \n",
        "\n",
        "Kód v poli vykonáme stlačením __Ctrl+Enter__ alebo kliknutím na šípku na ľavom okraji bloku.\n",
        "\n",
        "Kliknutím na __Preview__ na hornom paneli okna (alebo stlačením __Ctrl-Shift-K__) sa zobrazí vyrendrovaná html stránka s kódom a všetkými výstupmi.\n"
      ]
    }
  ]
}